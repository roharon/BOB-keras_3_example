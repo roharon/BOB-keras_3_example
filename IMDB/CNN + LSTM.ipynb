{
 "cells": [
  {
   "cell_type": "code",
   "execution_count": 1,
   "metadata": {},
   "outputs": [
    {
     "name": "stderr",
     "output_type": "stream",
     "text": [
      "Using TensorFlow backend.\n"
     ]
    }
   ],
   "source": [
    "from keras.datasets import imdb\n",
    "from keras.preprocessing import sequence\n",
    "\n",
    "from keras.layers import LSTM, Conv1D, MaxPooling1D\n",
    "from keras.layers import Dense, Dropout, Activation\n",
    "from keras.models import Sequential\n",
    "from keras.layers import Embedding, SimpleRNN"
   ]
  },
  {
   "cell_type": "code",
   "execution_count": 2,
   "metadata": {},
   "outputs": [],
   "source": [
    "max_features = 10000\n",
    "maxlen = 500\n",
    "batch_size = 32"
   ]
  },
  {
   "cell_type": "code",
   "execution_count": 3,
   "metadata": {},
   "outputs": [],
   "source": [
    "(x_train, y_train), (x_label, y_label) = imdb.load_data(num_words = max_features)\n",
    "\n",
    "x_train = sequence.pad_sequences(x_train, maxlen=maxlen)\n",
    "x_label = sequence.pad_sequences(x_label, maxlen=maxlen)"
   ]
  },
  {
   "cell_type": "markdown",
   "metadata": {},
   "source": [
    "Sequential모델로 (10000, 50)의 Embedding을 추가해준다. Embedding이 레이어 중간에 있으면\n",
    "앞의 레이어에서 출력되는 크기를 알기때문에 input_length를 반드시 추가해야할 필요는 없지만, 이 모델에서는 Embedding이 \n",
    "첫 레이어에 위치하므로 input_length를 적어준다.\n",
    "\n",
    "분류하는 모델이기에 Dense 1과 함께 활성화함수 sigmoid를 사용한다."
   ]
  },
  {
   "cell_type": "code",
   "execution_count": 4,
   "metadata": {},
   "outputs": [
    {
     "name": "stderr",
     "output_type": "stream",
     "text": [
      "WARNING: Logging before flag parsing goes to stderr.\n",
      "W0803 13:40:58.108543 139946534573888 deprecation_wrapper.py:119] From /home/aaronroh/anaconda3/lib/python3.7/site-packages/keras/backend/tensorflow_backend.py:74: The name tf.get_default_graph is deprecated. Please use tf.compat.v1.get_default_graph instead.\n",
      "\n",
      "W0803 13:40:58.121585 139946534573888 deprecation_wrapper.py:119] From /home/aaronroh/anaconda3/lib/python3.7/site-packages/keras/backend/tensorflow_backend.py:517: The name tf.placeholder is deprecated. Please use tf.compat.v1.placeholder instead.\n",
      "\n",
      "W0803 13:40:58.124550 139946534573888 deprecation_wrapper.py:119] From /home/aaronroh/anaconda3/lib/python3.7/site-packages/keras/backend/tensorflow_backend.py:4138: The name tf.random_uniform is deprecated. Please use tf.random.uniform instead.\n",
      "\n",
      "W0803 13:40:58.135916 139946534573888 deprecation_wrapper.py:119] From /home/aaronroh/anaconda3/lib/python3.7/site-packages/keras/backend/tensorflow_backend.py:133: The name tf.placeholder_with_default is deprecated. Please use tf.compat.v1.placeholder_with_default instead.\n",
      "\n",
      "W0803 13:40:58.146528 139946534573888 deprecation.py:506] From /home/aaronroh/anaconda3/lib/python3.7/site-packages/keras/backend/tensorflow_backend.py:3445: calling dropout (from tensorflow.python.ops.nn_ops) with keep_prob is deprecated and will be removed in a future version.\n",
      "Instructions for updating:\n",
      "Please use `rate` instead of `keep_prob`. Rate should be set to `rate = 1 - keep_prob`.\n",
      "W0803 13:40:58.178753 139946534573888 deprecation_wrapper.py:119] From /home/aaronroh/anaconda3/lib/python3.7/site-packages/keras/backend/tensorflow_backend.py:3976: The name tf.nn.max_pool is deprecated. Please use tf.nn.max_pool2d instead.\n",
      "\n"
     ]
    }
   ],
   "source": [
    "model = Sequential()\n",
    "model.add(Embedding(max_features, 50, input_length=maxlen))\n",
    "# 50dimension\n",
    "model.add(Dropout(0.2)) \n",
    "model.add(Conv1D(50, 5,\n",
    "                padding='valid',\n",
    "                activation='relu',\n",
    "                strides=1))\n",
    "model.add(MaxPooling1D(pool_size=3))\n",
    "model.add(LSTM(32))\n",
    "\n",
    "model.add(Dense(1))\n",
    "model.add(Activation('sigmoid'))"
   ]
  },
  {
   "cell_type": "code",
   "execution_count": 5,
   "metadata": {},
   "outputs": [
    {
     "name": "stderr",
     "output_type": "stream",
     "text": [
      "W0803 13:40:58.383102 139946534573888 deprecation_wrapper.py:119] From /home/aaronroh/anaconda3/lib/python3.7/site-packages/keras/optimizers.py:790: The name tf.train.Optimizer is deprecated. Please use tf.compat.v1.train.Optimizer instead.\n",
      "\n",
      "W0803 13:40:58.404922 139946534573888 deprecation_wrapper.py:119] From /home/aaronroh/anaconda3/lib/python3.7/site-packages/keras/backend/tensorflow_backend.py:3376: The name tf.log is deprecated. Please use tf.math.log instead.\n",
      "\n",
      "W0803 13:40:58.410186 139946534573888 deprecation.py:323] From /home/aaronroh/anaconda3/lib/python3.7/site-packages/tensorflow/python/ops/nn_impl.py:180: add_dispatch_support.<locals>.wrapper (from tensorflow.python.ops.array_ops) is deprecated and will be removed in a future version.\n",
      "Instructions for updating:\n",
      "Use tf.where in 2.0, which has the same broadcast rule as np.where\n"
     ]
    }
   ],
   "source": [
    "model.compile(optimizer='rmsprop',\n",
    "             loss='binary_crossentropy',\n",
    "             metrics=['acc'])"
   ]
  },
  {
   "cell_type": "markdown",
   "metadata": {},
   "source": [
    "x_train, y_train으로 훈련을 하며, 검증을 위한 데이터로 x_label, y_label을 사용하였다."
   ]
  },
  {
   "cell_type": "code",
   "execution_count": 6,
   "metadata": {},
   "outputs": [
    {
     "name": "stdout",
     "output_type": "stream",
     "text": [
      "Train on 25000 samples, validate on 25000 samples\n",
      "Epoch 1/25\n",
      "25000/25000 [==============================] - 42s 2ms/step - loss: 0.4475 - acc: 0.7820 - val_loss: 0.3507 - val_acc: 0.8503\n",
      "Epoch 2/25\n",
      "25000/25000 [==============================] - 44s 2ms/step - loss: 0.2586 - acc: 0.8992 - val_loss: 0.2921 - val_acc: 0.8805\n",
      "Epoch 3/25\n",
      "25000/25000 [==============================] - 43s 2ms/step - loss: 0.2101 - acc: 0.9207 - val_loss: 0.2855 - val_acc: 0.8813\n",
      "Epoch 4/25\n",
      "25000/25000 [==============================] - 45s 2ms/step - loss: 0.1749 - acc: 0.9370 - val_loss: 0.3040 - val_acc: 0.8752\n",
      "Epoch 5/25\n",
      "25000/25000 [==============================] - 40s 2ms/step - loss: 0.1522 - acc: 0.9449 - val_loss: 0.3284 - val_acc: 0.8763\n",
      "Epoch 6/25\n",
      "25000/25000 [==============================] - 39s 2ms/step - loss: 0.1307 - acc: 0.9538 - val_loss: 0.4776 - val_acc: 0.8374\n",
      "Epoch 7/25\n",
      "25000/25000 [==============================] - 39s 2ms/step - loss: 0.1153 - acc: 0.9603 - val_loss: 0.3671 - val_acc: 0.8735\n",
      "Epoch 8/25\n",
      "25000/25000 [==============================] - 39s 2ms/step - loss: 0.0981 - acc: 0.9668 - val_loss: 0.4010 - val_acc: 0.8694\n",
      "Epoch 9/25\n",
      "25000/25000 [==============================] - 40s 2ms/step - loss: 0.0869 - acc: 0.9710 - val_loss: 0.3947 - val_acc: 0.8708\n",
      "Epoch 10/25\n",
      "25000/25000 [==============================] - 41s 2ms/step - loss: 0.0771 - acc: 0.9755 - val_loss: 0.4140 - val_acc: 0.8667\n",
      "Epoch 11/25\n",
      "25000/25000 [==============================] - 42s 2ms/step - loss: 0.0675 - acc: 0.9791 - val_loss: 0.4959 - val_acc: 0.8619\n",
      "Epoch 12/25\n",
      "25000/25000 [==============================] - 40s 2ms/step - loss: 0.0542 - acc: 0.9833 - val_loss: 0.5262 - val_acc: 0.8630\n",
      "Epoch 13/25\n",
      "25000/25000 [==============================] - 39s 2ms/step - loss: 0.0487 - acc: 0.9850 - val_loss: 0.5330 - val_acc: 0.8503\n",
      "Epoch 14/25\n",
      "25000/25000 [==============================] - 40s 2ms/step - loss: 0.0405 - acc: 0.9882 - val_loss: 0.5487 - val_acc: 0.8571\n",
      "Epoch 15/25\n",
      "25000/25000 [==============================] - 44s 2ms/step - loss: 0.0338 - acc: 0.9906 - val_loss: 0.5622 - val_acc: 0.8545\n",
      "Epoch 16/25\n",
      "25000/25000 [==============================] - 40s 2ms/step - loss: 0.0296 - acc: 0.9915 - val_loss: 0.5626 - val_acc: 0.8536\n",
      "Epoch 17/25\n",
      "25000/25000 [==============================] - 40s 2ms/step - loss: 0.0239 - acc: 0.9943 - val_loss: 0.6268 - val_acc: 0.8533\n",
      "Epoch 18/25\n",
      "25000/25000 [==============================] - 40s 2ms/step - loss: 0.0220 - acc: 0.9942 - val_loss: 0.7884 - val_acc: 0.8327\n",
      "Epoch 19/25\n",
      "25000/25000 [==============================] - 40s 2ms/step - loss: 0.0172 - acc: 0.9955 - val_loss: 0.6905 - val_acc: 0.8533\n",
      "Epoch 20/25\n",
      "25000/25000 [==============================] - 40s 2ms/step - loss: 0.0151 - acc: 0.9965 - val_loss: 0.7296 - val_acc: 0.8523\n",
      "Epoch 21/25\n",
      "25000/25000 [==============================] - 40s 2ms/step - loss: 0.0120 - acc: 0.9966 - val_loss: 0.7333 - val_acc: 0.8524\n",
      "Epoch 22/25\n",
      "25000/25000 [==============================] - 40s 2ms/step - loss: 0.0113 - acc: 0.9972 - val_loss: 0.7536 - val_acc: 0.8535\n",
      "Epoch 23/25\n",
      "25000/25000 [==============================] - 40s 2ms/step - loss: 0.0097 - acc: 0.9980 - val_loss: 0.8201 - val_acc: 0.8496\n",
      "Epoch 24/25\n",
      "25000/25000 [==============================] - 40s 2ms/step - loss: 0.0099 - acc: 0.9978 - val_loss: 0.8163 - val_acc: 0.8504\n",
      "Epoch 25/25\n",
      "25000/25000 [==============================] - 40s 2ms/step - loss: 0.0079 - acc: 0.9983 - val_loss: 0.8607 - val_acc: 0.8461\n"
     ]
    }
   ],
   "source": [
    "history = model.fit(x_train, y_train,\n",
    "                   epochs=25,\n",
    "                   batch_size = 128,\n",
    "                validation_data=(x_label, y_label)\n",
    "                   )"
   ]
  },
  {
   "cell_type": "code",
   "execution_count": 7,
   "metadata": {},
   "outputs": [
    {
     "name": "stdout",
     "output_type": "stream",
     "text": [
      "_________________________________________________________________\n",
      "Layer (type)                 Output Shape              Param #   \n",
      "=================================================================\n",
      "embedding_1 (Embedding)      (None, 500, 50)           500000    \n",
      "_________________________________________________________________\n",
      "dropout_1 (Dropout)          (None, 500, 50)           0         \n",
      "_________________________________________________________________\n",
      "conv1d_1 (Conv1D)            (None, 496, 50)           12550     \n",
      "_________________________________________________________________\n",
      "max_pooling1d_1 (MaxPooling1 (None, 165, 50)           0         \n",
      "_________________________________________________________________\n",
      "lstm_1 (LSTM)                (None, 32)                10624     \n",
      "_________________________________________________________________\n",
      "dense_1 (Dense)              (None, 1)                 33        \n",
      "_________________________________________________________________\n",
      "activation_1 (Activation)    (None, 1)                 0         \n",
      "=================================================================\n",
      "Total params: 523,207\n",
      "Trainable params: 523,207\n",
      "Non-trainable params: 0\n",
      "_________________________________________________________________\n"
     ]
    }
   ],
   "source": [
    "model.summary()"
   ]
  },
  {
   "cell_type": "code",
   "execution_count": 8,
   "metadata": {},
   "outputs": [
    {
     "name": "stdout",
     "output_type": "stream",
     "text": [
      "25000/25000 [==============================] - 14s 569us/step\n"
     ]
    }
   ],
   "source": [
    "results = model.evaluate(x_label, y_label)"
   ]
  },
  {
   "cell_type": "code",
   "execution_count": 9,
   "metadata": {},
   "outputs": [
    {
     "data": {
      "text/plain": [
       "[0.8606499513095617, 0.84608]"
      ]
     },
     "execution_count": 9,
     "metadata": {},
     "output_type": "execute_result"
    }
   ],
   "source": [
    "results"
   ]
  },
  {
   "cell_type": "markdown",
   "metadata": {},
   "source": [
    "0.84608의 정확도가 나왔다."
   ]
  }
 ],
 "metadata": {
  "kernelspec": {
   "display_name": "Python 3",
   "language": "python",
   "name": "python3"
  },
  "language_info": {
   "codemirror_mode": {
    "name": "ipython",
    "version": 3
   },
   "file_extension": ".py",
   "mimetype": "text/x-python",
   "name": "python",
   "nbconvert_exporter": "python",
   "pygments_lexer": "ipython3",
   "version": "3.7.3"
  }
 },
 "nbformat": 4,
 "nbformat_minor": 2
}
