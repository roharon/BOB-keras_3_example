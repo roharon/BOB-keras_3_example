{
 "cells": [
  {
   "cell_type": "markdown",
   "metadata": {},
   "source": [
    "```\n",
    "Keras: 인공신경망 기초 \n",
    "\n",
    "과제 안내해 드립니다. \n",
    "\n",
    "내용: IMDB 데이터 세트에 아래의 모델로 학습시키고 각각 다른 파일로 작성할 것.  \n",
    "-  LSTM  \n",
    "-  CNN  \n",
    "-  CNN+LSTM \n",
    "\n",
    "기한: 8월 5일 20시까지 \n",
    "* 학습에 긴 시간이 소요되며 실행 중에는 리소스 과다 사용으로 다른 작업이 어려울 수 있으니 시간 관리 주의하세요. \n",
    "\n",
    "아래의 내용이 노트북에 반드시 포함되어야 함. \n",
    "*Dataset에 대해 추가 조사 필요 \n",
    "- 실제 데이터에 대한 상세 기술 \n",
    "- 예측하고자 하는 방법/방향 기술 \n",
    "- 학습을 위해 데이터가 어떻게 가공/처리되었는지 기술 \n",
    "- 사용된 모델의 특징에 대한 기술 \n",
    "- 생성된 모델의 model.summary() 출력 \n",
    "- epoch은 최소 25회 이상 진행 \n",
    "```"
   ]
  },
  {
   "cell_type": "code",
   "execution_count": 1,
   "metadata": {},
   "outputs": [
    {
     "name": "stderr",
     "output_type": "stream",
     "text": [
      "Using TensorFlow backend.\n"
     ]
    }
   ],
   "source": [
    "from keras.datasets import imdb\n",
    "from keras.preprocessing import sequence\n",
    "\n",
    "from keras.layers import LSTM\n",
    "from keras.layers import Dense\n",
    "from keras.models import Sequential\n",
    "from keras.layers import Embedding, SimpleRNN"
   ]
  },
  {
   "cell_type": "code",
   "execution_count": 2,
   "metadata": {},
   "outputs": [],
   "source": [
    "max_features = 10000\n",
    "maxlen = 500\n",
    "batch_size = 32"
   ]
  },
  {
   "cell_type": "code",
   "execution_count": 3,
   "metadata": {},
   "outputs": [],
   "source": [
    "(x_train, y_train), (x_label, y_label) = imdb.load_data(num_words = max_features)\n",
    "\n",
    "x_train = sequence.pad_sequences(x_train, maxlen=maxlen)\n",
    "x_label = sequence.pad_sequences(x_label, maxlen=maxlen)"
   ]
  },
  {
   "cell_type": "code",
   "execution_count": 4,
   "metadata": {},
   "outputs": [
    {
     "name": "stderr",
     "output_type": "stream",
     "text": [
      "WARNING: Logging before flag parsing goes to stderr.\n",
      "W0803 10:36:40.463149 140116375529280 deprecation_wrapper.py:119] From /home/aaronroh/anaconda3/lib/python3.7/site-packages/keras/backend/tensorflow_backend.py:74: The name tf.get_default_graph is deprecated. Please use tf.compat.v1.get_default_graph instead.\n",
      "\n",
      "W0803 10:36:40.486127 140116375529280 deprecation_wrapper.py:119] From /home/aaronroh/anaconda3/lib/python3.7/site-packages/keras/backend/tensorflow_backend.py:517: The name tf.placeholder is deprecated. Please use tf.compat.v1.placeholder instead.\n",
      "\n",
      "W0803 10:36:40.488545 140116375529280 deprecation_wrapper.py:119] From /home/aaronroh/anaconda3/lib/python3.7/site-packages/keras/backend/tensorflow_backend.py:4138: The name tf.random_uniform is deprecated. Please use tf.random.uniform instead.\n",
      "\n",
      "W0803 10:36:40.706672 140116375529280 deprecation_wrapper.py:119] From /home/aaronroh/anaconda3/lib/python3.7/site-packages/keras/optimizers.py:790: The name tf.train.Optimizer is deprecated. Please use tf.compat.v1.train.Optimizer instead.\n",
      "\n",
      "W0803 10:36:40.726727 140116375529280 deprecation_wrapper.py:119] From /home/aaronroh/anaconda3/lib/python3.7/site-packages/keras/backend/tensorflow_backend.py:3376: The name tf.log is deprecated. Please use tf.math.log instead.\n",
      "\n",
      "W0803 10:36:40.731782 140116375529280 deprecation.py:323] From /home/aaronroh/anaconda3/lib/python3.7/site-packages/tensorflow/python/ops/nn_impl.py:180: add_dispatch_support.<locals>.wrapper (from tensorflow.python.ops.array_ops) is deprecated and will be removed in a future version.\n",
      "Instructions for updating:\n",
      "Use tf.where in 2.0, which has the same broadcast rule as np.where\n",
      "W0803 10:36:41.387623 140116375529280 deprecation_wrapper.py:119] From /home/aaronroh/anaconda3/lib/python3.7/site-packages/keras/backend/tensorflow_backend.py:986: The name tf.assign_add is deprecated. Please use tf.compat.v1.assign_add instead.\n",
      "\n"
     ]
    },
    {
     "name": "stdout",
     "output_type": "stream",
     "text": [
      "Train on 20000 samples, validate on 5000 samples\n",
      "Epoch 1/25\n",
      "20000/20000 [==============================] - 47s 2ms/step - loss: 0.4995 - acc: 0.7661 - val_loss: 0.3304 - val_acc: 0.8676\n",
      "Epoch 2/25\n",
      "20000/20000 [==============================] - 47s 2ms/step - loss: 0.2963 - acc: 0.8838 - val_loss: 0.2896 - val_acc: 0.8762\n",
      "Epoch 3/25\n",
      "20000/20000 [==============================] - 46s 2ms/step - loss: 0.2286 - acc: 0.9128 - val_loss: 0.3045 - val_acc: 0.8824\n",
      "Epoch 4/25\n",
      "20000/20000 [==============================] - 45s 2ms/step - loss: 0.2002 - acc: 0.9269 - val_loss: 0.2825 - val_acc: 0.8852\n",
      "Epoch 5/25\n",
      "20000/20000 [==============================] - 45s 2ms/step - loss: 0.1747 - acc: 0.9368 - val_loss: 0.2991 - val_acc: 0.8862\n",
      "Epoch 6/25\n",
      "20000/20000 [==============================] - 45s 2ms/step - loss: 0.1635 - acc: 0.9419 - val_loss: 0.2996 - val_acc: 0.8806\n",
      "Epoch 7/25\n",
      "20000/20000 [==============================] - 45s 2ms/step - loss: 0.1425 - acc: 0.9499 - val_loss: 0.3844 - val_acc: 0.8494\n",
      "Epoch 8/25\n",
      "20000/20000 [==============================] - 45s 2ms/step - loss: 0.1327 - acc: 0.9544 - val_loss: 0.3261 - val_acc: 0.8704\n",
      "Epoch 9/25\n",
      "20000/20000 [==============================] - 45s 2ms/step - loss: 0.1241 - acc: 0.9575 - val_loss: 0.3658 - val_acc: 0.8738\n",
      "Epoch 10/25\n",
      "20000/20000 [==============================] - 45s 2ms/step - loss: 0.1134 - acc: 0.9605 - val_loss: 0.3681 - val_acc: 0.8804\n",
      "Epoch 11/25\n",
      "20000/20000 [==============================] - 46s 2ms/step - loss: 0.1101 - acc: 0.9614 - val_loss: 0.4187 - val_acc: 0.8460\n",
      "Epoch 12/25\n",
      "20000/20000 [==============================] - 46s 2ms/step - loss: 0.0949 - acc: 0.9679 - val_loss: 0.4164 - val_acc: 0.8702\n",
      "Epoch 13/25\n",
      "20000/20000 [==============================] - 43s 2ms/step - loss: 0.0963 - acc: 0.9673 - val_loss: 0.4083 - val_acc: 0.8758\n",
      "Epoch 14/25\n",
      "20000/20000 [==============================] - 44s 2ms/step - loss: 0.0846 - acc: 0.9713 - val_loss: 0.4665 - val_acc: 0.8522\n",
      "Epoch 15/25\n",
      "20000/20000 [==============================] - 44s 2ms/step - loss: 0.0818 - acc: 0.9714 - val_loss: 0.4141 - val_acc: 0.8764\n",
      "Epoch 16/25\n",
      "20000/20000 [==============================] - 44s 2ms/step - loss: 0.0761 - acc: 0.9753 - val_loss: 0.3968 - val_acc: 0.8682\n",
      "Epoch 17/25\n",
      "20000/20000 [==============================] - 45s 2ms/step - loss: 0.0714 - acc: 0.9757 - val_loss: 0.5202 - val_acc: 0.8696\n",
      "Epoch 18/25\n",
      "20000/20000 [==============================] - 44s 2ms/step - loss: 0.0745 - acc: 0.9778 - val_loss: 0.6535 - val_acc: 0.8536\n",
      "Epoch 19/25\n",
      "20000/20000 [==============================] - 44s 2ms/step - loss: 0.0683 - acc: 0.9779 - val_loss: 0.4920 - val_acc: 0.8576\n",
      "Epoch 20/25\n",
      "20000/20000 [==============================] - 46s 2ms/step - loss: 0.0594 - acc: 0.9804 - val_loss: 0.4679 - val_acc: 0.8682\n",
      "Epoch 21/25\n",
      "20000/20000 [==============================] - 49s 2ms/step - loss: 0.0589 - acc: 0.9810 - val_loss: 0.4801 - val_acc: 0.8608\n",
      "Epoch 22/25\n",
      "20000/20000 [==============================] - 46s 2ms/step - loss: 0.0518 - acc: 0.9849 - val_loss: 0.5681 - val_acc: 0.8692\n",
      "Epoch 23/25\n",
      "20000/20000 [==============================] - 47s 2ms/step - loss: 0.0554 - acc: 0.9834 - val_loss: 0.5197 - val_acc: 0.8640\n",
      "Epoch 24/25\n",
      "20000/20000 [==============================] - 47s 2ms/step - loss: 0.0507 - acc: 0.9842 - val_loss: 0.5262 - val_acc: 0.8678\n",
      "Epoch 25/25\n",
      "20000/20000 [==============================] - 49s 2ms/step - loss: 0.0430 - acc: 0.9864 - val_loss: 0.5430 - val_acc: 0.8700\n"
     ]
    }
   ],
   "source": [
    "model = Sequential()\n",
    "model.add(Embedding(max_features, 32))\n",
    "model.add(LSTM(32))\n",
    "model.add(Dense(1, activation='sigmoid'))\n",
    "\n",
    "model.compile(optimizer='rmsprop',\n",
    "             loss='binary_crossentropy',\n",
    "             metrics=['acc'])\n",
    "history = model.fit(x_train, y_train,\n",
    "                   epochs=25,\n",
    "                   batch_size = 128,\n",
    "                   validation_split=0.2)"
   ]
  },
  {
   "cell_type": "code",
   "execution_count": 5,
   "metadata": {},
   "outputs": [
    {
     "name": "stdout",
     "output_type": "stream",
     "text": [
      "_________________________________________________________________\n",
      "Layer (type)                 Output Shape              Param #   \n",
      "=================================================================\n",
      "embedding_1 (Embedding)      (None, None, 32)          320000    \n",
      "_________________________________________________________________\n",
      "lstm_1 (LSTM)                (None, 32)                8320      \n",
      "_________________________________________________________________\n",
      "dense_1 (Dense)              (None, 1)                 33        \n",
      "=================================================================\n",
      "Total params: 328,353\n",
      "Trainable params: 328,353\n",
      "Non-trainable params: 0\n",
      "_________________________________________________________________\n"
     ]
    }
   ],
   "source": [
    "model.summary()"
   ]
  },
  {
   "cell_type": "code",
   "execution_count": 7,
   "metadata": {},
   "outputs": [
    {
     "name": "stdout",
     "output_type": "stream",
     "text": [
      "25000/25000 [==============================] - 29s 1ms/step\n"
     ]
    }
   ],
   "source": [
    "results = model.evaluate(x_label, y_label)"
   ]
  },
  {
   "cell_type": "code",
   "execution_count": 8,
   "metadata": {},
   "outputs": [
    {
     "data": {
      "text/plain": [
       "[0.6442926735419034, 0.84852]"
      ]
     },
     "execution_count": 8,
     "metadata": {},
     "output_type": "execute_result"
    }
   ],
   "source": [
    "results"
   ]
  }
 ],
 "metadata": {
  "kernelspec": {
   "display_name": "Python 3",
   "language": "python",
   "name": "python3"
  },
  "language_info": {
   "codemirror_mode": {
    "name": "ipython",
    "version": 3
   },
   "file_extension": ".py",
   "mimetype": "text/x-python",
   "name": "python",
   "nbconvert_exporter": "python",
   "pygments_lexer": "ipython3",
   "version": "3.7.3"
  }
 },
 "nbformat": 4,
 "nbformat_minor": 2
}
