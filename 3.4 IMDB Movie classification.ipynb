{
 "cells": [
  {
   "cell_type": "code",
   "execution_count": 1,
   "metadata": {},
   "outputs": [
    {
     "name": "stderr",
     "output_type": "stream",
     "text": [
      "Using TensorFlow backend.\n"
     ]
    }
   ],
   "source": [
    "from keras.datasets import imdb\n",
    "\n",
    "\n",
    "(train_data, train_labels), (test_data, test_labels) = imdb.load_data(num_words = 10000)"
   ]
  },
  {
   "cell_type": "code",
   "execution_count": 17,
   "metadata": {},
   "outputs": [],
   "source": [
    "word_index = imdb.get_word_index()\n",
    "reverse_word_index = dict(\n",
    "    [(value, key) for (key, value) in word_index.items()])\n",
    "\n",
    "decoded_review = ' '.join([reverse_word_index.get(i-3, \"?\") for i in train_data[0]])\n",
    "# Index 0,1,2 : Padding, 문서시작, 사전에 없음"
   ]
  },
  {
   "cell_type": "code",
   "execution_count": 29,
   "metadata": {},
   "outputs": [],
   "source": [
    "import numpy as np\n",
    "\n",
    "def vectorize_sequences(sequences, dimension = 10000):\n",
    "    results = np.zeros((len(sequences), dimension))\n",
    "    for i, sequence in enumerate(sequences):\n",
    "        results[i, sequence] = 1.\n",
    "    return results\n",
    "\n",
    "x_train = vectorize_sequences(train_data)\n",
    "x_test = vectorize_sequences(test_data)"
   ]
  },
  {
   "cell_type": "code",
   "execution_count": 37,
   "metadata": {},
   "outputs": [],
   "source": [
    "y_train = np.asarray(train_labels).astype('float32')\n",
    "y_test = np.asarray(test_labels).astype('float32')"
   ]
  },
  {
   "cell_type": "code",
   "execution_count": 31,
   "metadata": {},
   "outputs": [],
   "source": [
    "from keras import models\n",
    "from keras import layers\n",
    "\n",
    "model = models.Sequential()\n",
    "model.add(layers.Dense(16, activation='relu', input_shape=(10000,)))\n",
    "model.add(layers.Dense(16, activation='relu'))\n",
    "model.add(layers.Dense(1, activation='sigmoid'))"
   ]
  },
  {
   "cell_type": "code",
   "execution_count": 32,
   "metadata": {},
   "outputs": [],
   "source": [
    "model.compile(optimizer='rmsprop', loss='binary_crossentropy', metrics=['accuracy'])"
   ]
  },
  {
   "cell_type": "code",
   "execution_count": 42,
   "metadata": {},
   "outputs": [],
   "source": [
    "from keras import optimizers\n",
    "\n",
    "model.compile(optimizer=optimizers.RMSprop(lr=0.001),\n",
    "              loss='binary_crossentropy',\n",
    "              metrics=['accuracy'])"
   ]
  },
  {
   "cell_type": "code",
   "execution_count": 43,
   "metadata": {},
   "outputs": [],
   "source": [
    "from keras import losses\n",
    "from keras import metrics"
   ]
  },
  {
   "cell_type": "code",
   "execution_count": 46,
   "metadata": {},
   "outputs": [],
   "source": [
    "x_val = x_train[:10000]\n",
    "partial_x_train = x_train[10000:]\n",
    "\n",
    "y_val = y_train[:10000]\n",
    "partial_y_train = y_train[10000:]"
   ]
  },
  {
   "cell_type": "code",
   "execution_count": 55,
   "metadata": {},
   "outputs": [
    {
     "name": "stdout",
     "output_type": "stream",
     "text": [
      "Train on 15000 samples, validate on 10000 samples\n",
      "Epoch 1/20\n",
      "15000/15000 [==============================] - 1s 90us/step - loss: 0.0045 - acc: 0.9991 - val_loss: 0.7011 - val_acc: 0.8684\n",
      "Epoch 2/20\n",
      "15000/15000 [==============================] - 2s 104us/step - loss: 0.0015 - acc: 0.9999 - val_loss: 0.7252 - val_acc: 0.8679\n",
      "Epoch 3/20\n",
      "15000/15000 [==============================] - 2s 101us/step - loss: 0.0035 - acc: 0.9992 - val_loss: 0.7551 - val_acc: 0.8675\n",
      "Epoch 4/20\n",
      "15000/15000 [==============================] - 1s 94us/step - loss: 9.0176e-04 - acc: 0.9999 - val_loss: 0.7778 - val_acc: 0.8664\n",
      "Epoch 5/20\n",
      "15000/15000 [==============================] - 1s 93us/step - loss: 7.6714e-04 - acc: 0.9999 - val_loss: 0.8994 - val_acc: 0.8523\n",
      "Epoch 6/20\n",
      "15000/15000 [==============================] - 1s 94us/step - loss: 0.0011 - acc: 0.9999 - val_loss: 0.8328 - val_acc: 0.8642\n",
      "Epoch 7/20\n",
      "15000/15000 [==============================] - 1s 95us/step - loss: 5.2109e-04 - acc: 0.9999 - val_loss: 0.9713 - val_acc: 0.8537\n",
      "Epoch 8/20\n",
      "15000/15000 [==============================] - 1s 94us/step - loss: 5.7549e-04 - acc: 0.9999 - val_loss: 0.8909 - val_acc: 0.8636\n",
      "Epoch 9/20\n",
      "15000/15000 [==============================] - 1s 94us/step - loss: 2.6356e-04 - acc: 1.0000 - val_loss: 1.0188 - val_acc: 0.8555\n",
      "Epoch 10/20\n",
      "15000/15000 [==============================] - 1s 94us/step - loss: 6.3554e-04 - acc: 0.9999 - val_loss: 0.9371 - val_acc: 0.8628\n",
      "Epoch 11/20\n",
      "15000/15000 [==============================] - 1s 98us/step - loss: 1.3530e-04 - acc: 1.0000 - val_loss: 0.9651 - val_acc: 0.8640\n",
      "Epoch 12/20\n",
      "15000/15000 [==============================] - 1s 97us/step - loss: 0.0011 - acc: 0.9997 - val_loss: 0.9903 - val_acc: 0.8635\n",
      "Epoch 13/20\n",
      "15000/15000 [==============================] - 2s 115us/step - loss: 7.3125e-05 - acc: 1.0000 - val_loss: 1.0055 - val_acc: 0.8609\n",
      "Epoch 14/20\n",
      "15000/15000 [==============================] - 2s 107us/step - loss: 5.9884e-05 - acc: 1.0000 - val_loss: 1.0212 - val_acc: 0.8625\n",
      "Epoch 15/20\n",
      "15000/15000 [==============================] - 1s 96us/step - loss: 4.8788e-05 - acc: 1.0000 - val_loss: 1.0471 - val_acc: 0.8625\n",
      "Epoch 16/20\n",
      "15000/15000 [==============================] - 1s 95us/step - loss: 8.3035e-04 - acc: 0.9997 - val_loss: 1.0721 - val_acc: 0.8619\n",
      "Epoch 17/20\n",
      "15000/15000 [==============================] - 1s 96us/step - loss: 3.2662e-05 - acc: 1.0000 - val_loss: 1.0798 - val_acc: 0.8606\n",
      "Epoch 18/20\n",
      "15000/15000 [==============================] - 2s 114us/step - loss: 2.5087e-05 - acc: 1.0000 - val_loss: 1.0919 - val_acc: 0.8612\n",
      "Epoch 19/20\n",
      "15000/15000 [==============================] - 1s 95us/step - loss: 2.0127e-05 - acc: 1.0000 - val_loss: 1.1094 - val_acc: 0.8602\n",
      "Epoch 20/20\n",
      "15000/15000 [==============================] - 1s 96us/step - loss: 0.0010 - acc: 0.9997 - val_loss: 1.1900 - val_acc: 0.8587\n"
     ]
    },
    {
     "data": {
      "text/plain": [
       "dict_keys(['val_loss', 'val_acc', 'loss', 'acc'])"
      ]
     },
     "execution_count": 55,
     "metadata": {},
     "output_type": "execute_result"
    }
   ],
   "source": [
    "history = model.fit(partial_x_train,\n",
    "                    partial_y_train,\n",
    "                    epochs=20,\n",
    "                    batch_size=512,\n",
    "                    validation_data=(x_val, y_val))\n",
    "\n",
    "history_dict = history.history\n",
    "history_dict.keys()"
   ]
  },
  {
   "cell_type": "code",
   "execution_count": 56,
   "metadata": {},
   "outputs": [],
   "source": [
    "import matplotlib.pyplot as plt"
   ]
  },
  {
   "cell_type": "code",
   "execution_count": 57,
   "metadata": {},
   "outputs": [
    {
     "data": {
      "image/png": "[encoded data removed]",
      "text/plain": [
       "<Figure size 432x288 with 1 Axes>"
      ]
     },
     "metadata": {
      "needs_background": "light"
     },
     "output_type": "display_data"
    }
   ],
   "source": [
    "%matplotlib inline\n",
    "acc = history.history['acc']\n",
    "val_acc = history.history['val_acc']\n",
    "loss = history.history['loss']\n",
    "val_loss = history.history['val_loss']\n",
    "\n",
    "epochs = range(1, len(acc) + 1)\n",
    "\n",
    "plt.plot(epochs, loss, 'bo', label='Training loss')\n",
    "plt.plot(epochs, val_loss, 'b', label='Validation loss')\n",
    "plt.title(\"Training and Validation loss\")\n",
    "\n",
    "plt.xlabel('Epochs')\n",
    "plt.ylabel('Loss')\n",
    "plt.legend()\n",
    "\n",
    "plt.show()"
   ]
  },
  {
   "cell_type": "code",
   "execution_count": 58,
   "metadata": {},
   "outputs": [
    {
     "data": {
      "image/png": "[encoded data removed]",
      "text/plain": [
       "<Figure size 432x288 with 1 Axes>"
      ]
     },
     "metadata": {
      "needs_background": "light"
     },
     "output_type": "display_data"
    }
   ],
   "source": [
    "plt.clf()\n",
    "acc = history_dict['acc']\n",
    "val_acc = history_dict['val_acc']\n",
    "\n",
    "plt.plot(epochs, acc, 'bo', label='Training acc')\n",
    "plt.plot(epochs, val_acc, 'b', label='Validation acc')\n",
    "plt.title('Training and validation accuracy')\n",
    "plt.xlabel('Epochs')\n",
    "plt.ylabel('Accuracy')\n",
    "plt.legend()\n",
    "\n",
    "plt.show()"
   ]
  },
  {
   "cell_type": "code",
   "execution_count": 59,
   "metadata": {},
   "outputs": [
    {
     "name": "stdout",
     "output_type": "stream",
     "text": [
      "Epoch 1/4\n",
      "25000/25000 [==============================] - 2s 87us/step - loss: 0.4632 - acc: 0.8182\n",
      "Epoch 2/4\n",
      "25000/25000 [==============================] - 2s 70us/step - loss: 0.2659 - acc: 0.9062\n",
      "Epoch 3/4\n",
      "25000/25000 [==============================] - 2s 67us/step - loss: 0.2045 - acc: 0.9274\n",
      "Epoch 4/4\n",
      "25000/25000 [==============================] - 2s 67us/step - loss: 0.1705 - acc: 0.9395\n",
      "25000/25000 [==============================] - 1s 59us/step\n"
     ]
    }
   ],
   "source": [
    "model = models.Sequential()\n",
    "model.add(layers.Dense(16, activation='relu', input_shape=(10000,)))\n",
    "model.add(layers.Dense(16, activation='relu'))\n",
    "model.add(layers.Dense(1, activation='sigmoid'))\n",
    "\n",
    "model.compile(optimizer='rmsprop',\n",
    "              loss='binary_crossentropy',\n",
    "              metrics=['accuracy'])\n",
    "\n",
    "model.fit(x_train, y_train, epochs=4, batch_size=512)\n",
    "results = model.evaluate(x_test, y_test)"
   ]
  },
  {
   "cell_type": "code",
   "execution_count": 61,
   "metadata": {},
   "outputs": [
    {
     "data": {
      "text/plain": [
       "[0.2900802476596832, 0.88556]"
      ]
     },
     "execution_count": 61,
     "metadata": {},
     "output_type": "execute_result"
    }
   ],
   "source": [
    "results"
   ]
  }
 ],
 "metadata": {
  "kernelspec": {
   "display_name": "Python 3",
   "language": "python",
   "name": "python3"
  },
  "language_info": {
   "codemirror_mode": {
    "name": "ipython",
    "version": 3
   },
   "file_extension": ".py",
   "mimetype": "text/x-python",
   "name": "python",
   "nbconvert_exporter": "python",
   "pygments_lexer": "ipython3",
   "version": "3.7.3"
  }
 },
 "nbformat": 4,
 "nbformat_minor": 2
}
