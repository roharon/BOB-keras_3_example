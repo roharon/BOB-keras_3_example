{
 "cells": [
  {
   "cell_type": "code",
   "execution_count": 3,
   "metadata": {},
   "outputs": [],
   "source": [
    "from keras.datasets import imdb\n",
    "\n",
    "\n",
    "(train_data, train_labels), (test_data, test_labels) = imdb.load_data(num_words = 10000)\n",
    "# keras의 imdb에서 빈번한 단어 10000개 사용\n",
    "# data : 리뷰 목록, labels: 긍정or부정(1,0)"
   ]
  },
  {
   "cell_type": "code",
   "execution_count": 4,
   "metadata": {},
   "outputs": [],
   "source": [
    "word_index = imdb.get_word_index()\n",
    "# imdb 데이터셋에서 워드인덱스를 가져옴\n",
    "reverse_word_index = dict(\n",
    "    [(value, key) for (key, value) in word_index.items()])\n",
    "# 단어와 정수인덱스 매핑위해 뒤집음\n",
    "\n",
    "decoded_review = ' '.join([reverse_word_index.get(i-3, \"?\") for i in train_data[0]])\n",
    "# Index 0,1,2 : Padding, 문서시작, 사전에 없음\n",
    "# 따라서 인덱스 i에서 3을 빼어 문자열을 이어 붙인다."
   ]
  },
  {
   "cell_type": "code",
   "execution_count": 5,
   "metadata": {},
   "outputs": [],
   "source": [
    "import numpy as np\n",
    "\n",
    "def vectorize_sequences(sequences, dimension = 10000):\n",
    "    results = np.zeros((len(sequences), dimension))\n",
    "    for i, sequence in enumerate(sequences):\n",
    "        results[i, sequence] = 1.\n",
    "        #원핫 벡터를 만들기에 results[i]에 대해 1로 만든다.\n",
    "    return results\n",
    "\n",
    "    #numpy를 통해 모든 데이터가 0인 sequences 크기의 dimension 차원의 행렬를 만들고\n",
    "\n",
    "x_train = vectorize_sequences(train_data)\n",
    "# imdb에서 가져온 훈련데이터를 vectorize_sequence를 통해 벡터로 변환\n",
    "x_test = vectorize_sequences(test_data)\n",
    "# imdb에서 가져온 테스트 데이터를 vectorize_sequence를 통해 벡터로 변환"
   ]
  },
  {
   "cell_type": "code",
   "execution_count": 6,
   "metadata": {},
   "outputs": [],
   "source": [
    "y_train = np.asarray(train_labels).astype('float32')\n",
    "y_test = np.asarray(test_labels).astype('float32')\n",
    "# labels는 data변수와 다르게 0, 1로 구성되어있기에 numpy를 이용해 바로 변환이 가능하다"
   ]
  },
  {
   "cell_type": "code",
   "execution_count": 7,
   "metadata": {},
   "outputs": [
    {
     "name": "stderr",
     "output_type": "stream",
     "text": [
      "WARNING: Logging before flag parsing goes to stderr.\n",
      "W0729 10:39:37.981803 140679286835008 deprecation_wrapper.py:119] From /home/aaronroh/anaconda3/lib/python3.7/site-packages/keras/backend/tensorflow_backend.py:74: The name tf.get_default_graph is deprecated. Please use tf.compat.v1.get_default_graph instead.\n",
      "\n",
      "W0729 10:39:37.998726 140679286835008 deprecation_wrapper.py:119] From /home/aaronroh/anaconda3/lib/python3.7/site-packages/keras/backend/tensorflow_backend.py:517: The name tf.placeholder is deprecated. Please use tf.compat.v1.placeholder instead.\n",
      "\n",
      "W0729 10:39:38.001456 140679286835008 deprecation_wrapper.py:119] From /home/aaronroh/anaconda3/lib/python3.7/site-packages/keras/backend/tensorflow_backend.py:4138: The name tf.random_uniform is deprecated. Please use tf.random.uniform instead.\n",
      "\n"
     ]
    }
   ],
   "source": [
    "from keras import models\n",
    "from keras import layers\n",
    "\n",
    "model = models.Sequential()\n",
    "model.add(layers.Dense(16, activation='relu', input_shape=(10000,)))\n",
    "model.add(layers.Dense(16, activation='relu'))\n",
    "model.add(layers.Dense(1, activation='sigmoid'))\n",
    "# 뉴럴네트워크의 레이어를 정한다. 입력값의 크기는 (10000,)\n",
    "# 16, 16, 아웃풋은 1이다."
   ]
  },
  {
   "cell_type": "code",
   "execution_count": 8,
   "metadata": {},
   "outputs": [
    {
     "name": "stderr",
     "output_type": "stream",
     "text": [
      "W0729 10:39:38.041460 140679286835008 deprecation_wrapper.py:119] From /home/aaronroh/anaconda3/lib/python3.7/site-packages/keras/optimizers.py:790: The name tf.train.Optimizer is deprecated. Please use tf.compat.v1.train.Optimizer instead.\n",
      "\n",
      "W0729 10:39:38.059816 140679286835008 deprecation_wrapper.py:119] From /home/aaronroh/anaconda3/lib/python3.7/site-packages/keras/backend/tensorflow_backend.py:3376: The name tf.log is deprecated. Please use tf.math.log instead.\n",
      "\n",
      "W0729 10:39:38.063719 140679286835008 deprecation.py:323] From /home/aaronroh/anaconda3/lib/python3.7/site-packages/tensorflow/python/ops/nn_impl.py:180: add_dispatch_support.<locals>.wrapper (from tensorflow.python.ops.array_ops) is deprecated and will be removed in a future version.\n",
      "Instructions for updating:\n",
      "Use tf.where in 2.0, which has the same broadcast rule as np.where\n"
     ]
    }
   ],
   "source": [
    "model.compile(optimizer='rmsprop', loss='binary_crossentropy', metrics=['accuracy'])"
   ]
  },
  {
   "cell_type": "code",
   "execution_count": 9,
   "metadata": {},
   "outputs": [],
   "source": [
    "from keras import optimizers\n",
    "\n",
    "model.compile(optimizer=optimizers.RMSprop(lr=0.001),\n",
    "              loss='binary_crossentropy',\n",
    "              metrics=['accuracy'])\n",
    "# 옵티마이저는 확률이 출력되므로 binary_crossentropy를 쓰는게 적합하다고 하였다"
   ]
  },
  {
   "cell_type": "code",
   "execution_count": 10,
   "metadata": {},
   "outputs": [],
   "source": [
    "from keras import losses\n",
    "from keras import metrics"
   ]
  },
  {
   "cell_type": "code",
   "execution_count": 11,
   "metadata": {},
   "outputs": [],
   "source": [
    "x_val = x_train[:10000]\n",
    "partial_x_train = x_train[10000:]\n",
    "\n",
    "y_val = y_train[:10000]\n",
    "partial_y_train = y_train[10000:]\n",
    "\n",
    "#기존 훈련데이터에서 쪼개서 훈련 -> [훈련|테스트]를 만든다."
   ]
  },
  {
   "cell_type": "code",
   "execution_count": 12,
   "metadata": {},
   "outputs": [
    {
     "name": "stderr",
     "output_type": "stream",
     "text": [
      "W0729 10:39:38.254419 140679286835008 deprecation_wrapper.py:119] From /home/aaronroh/anaconda3/lib/python3.7/site-packages/keras/backend/tensorflow_backend.py:986: The name tf.assign_add is deprecated. Please use tf.compat.v1.assign_add instead.\n",
      "\n"
     ]
    },
    {
     "name": "stdout",
     "output_type": "stream",
     "text": [
      "Train on 15000 samples, validate on 10000 samples\n",
      "Epoch 1/20\n",
      "15000/15000 [==============================] - 2s 101us/step - loss: 0.4977 - acc: 0.7943 - val_loss: 0.3720 - val_acc: 0.8717\n",
      "Epoch 2/20\n",
      "15000/15000 [==============================] - 1s 63us/step - loss: 0.2959 - acc: 0.9043 - val_loss: 0.2991 - val_acc: 0.8908\n",
      "Epoch 3/20\n",
      "15000/15000 [==============================] - 1s 70us/step - loss: 0.2160 - acc: 0.9283 - val_loss: 0.3085 - val_acc: 0.8716\n",
      "Epoch 4/20\n",
      "15000/15000 [==============================] - 1s 65us/step - loss: 0.1741 - acc: 0.9434 - val_loss: 0.2826 - val_acc: 0.8849\n",
      "Epoch 5/20\n",
      "15000/15000 [==============================] - 1s 63us/step - loss: 0.1413 - acc: 0.9543 - val_loss: 0.2862 - val_acc: 0.8853\n",
      "Epoch 6/20\n",
      "15000/15000 [==============================] - 1s 66us/step - loss: 0.1142 - acc: 0.9653 - val_loss: 0.3090 - val_acc: 0.8809\n",
      "Epoch 7/20\n",
      "15000/15000 [==============================] - 1s 64us/step - loss: 0.0969 - acc: 0.9709 - val_loss: 0.3148 - val_acc: 0.8844\n",
      "Epoch 8/20\n",
      "15000/15000 [==============================] - 1s 61us/step - loss: 0.0803 - acc: 0.9765 - val_loss: 0.3864 - val_acc: 0.8664\n",
      "Epoch 9/20\n",
      "15000/15000 [==============================] - 1s 61us/step - loss: 0.0657 - acc: 0.9819 - val_loss: 0.3650 - val_acc: 0.8784\n",
      "Epoch 10/20\n",
      "15000/15000 [==============================] - 1s 62us/step - loss: 0.0553 - acc: 0.9850 - val_loss: 0.3865 - val_acc: 0.8791\n",
      "Epoch 11/20\n",
      "15000/15000 [==============================] - 1s 62us/step - loss: 0.0455 - acc: 0.9885 - val_loss: 0.4184 - val_acc: 0.8764\n",
      "Epoch 12/20\n",
      "15000/15000 [==============================] - 1s 65us/step - loss: 0.0385 - acc: 0.9913 - val_loss: 0.4525 - val_acc: 0.8701\n",
      "Epoch 13/20\n",
      "15000/15000 [==============================] - 1s 66us/step - loss: 0.0296 - acc: 0.9939 - val_loss: 0.4720 - val_acc: 0.8738\n",
      "Epoch 14/20\n",
      "15000/15000 [==============================] - 1s 66us/step - loss: 0.0243 - acc: 0.9949 - val_loss: 0.5028 - val_acc: 0.8720\n",
      "Epoch 15/20\n",
      "15000/15000 [==============================] - 1s 62us/step - loss: 0.0184 - acc: 0.9975 - val_loss: 0.5321 - val_acc: 0.8691\n",
      "Epoch 16/20\n",
      "15000/15000 [==============================] - 1s 68us/step - loss: 0.0155 - acc: 0.9983 - val_loss: 0.5698 - val_acc: 0.8695\n",
      "Epoch 17/20\n",
      "15000/15000 [==============================] - 1s 64us/step - loss: 0.0156 - acc: 0.9973 - val_loss: 0.6007 - val_acc: 0.8678\n",
      "Epoch 18/20\n",
      "15000/15000 [==============================] - 1s 63us/step - loss: 0.0084 - acc: 0.9993 - val_loss: 0.6928 - val_acc: 0.8612\n",
      "Epoch 19/20\n",
      "15000/15000 [==============================] - 1s 63us/step - loss: 0.0065 - acc: 0.9998 - val_loss: 0.7237 - val_acc: 0.8568\n",
      "Epoch 20/20\n",
      "15000/15000 [==============================] - 1s 63us/step - loss: 0.0113 - acc: 0.9972 - val_loss: 0.7028 - val_acc: 0.8669\n"
     ]
    },
    {
     "data": {
      "text/plain": [
       "dict_keys(['val_loss', 'val_acc', 'loss', 'acc'])"
      ]
     },
     "execution_count": 12,
     "metadata": {},
     "output_type": "execute_result"
    }
   ],
   "source": [
    "history = model.fit(partial_x_train,\n",
    "                    partial_y_train,\n",
    "                    epochs=20,\n",
    "                    batch_size=512,\n",
    "                    validation_data=(x_val, y_val))\n",
    "# 위에서 쪼갠 훈련데이터로 partial 데이터를 통해 모델을 에포크 20으로 훈련시키고 x_val, y_val를 통해 검증한다\n",
    "# model.fit()은 History를 반환한다.\n",
    "history_dict = history.history\n",
    "history_dict.keys()\n",
    "# 훈련과 검증을 통해 나온 손실률, 정확도가 history_dict에 담긴다."
   ]
  },
  {
   "cell_type": "code",
   "execution_count": 13,
   "metadata": {},
   "outputs": [],
   "source": [
    "import matplotlib.pyplot as plt"
   ]
  },
  {
   "cell_type": "code",
   "execution_count": 14,
   "metadata": {},
   "outputs": [
    {
     "data": {
      "image/png": "[encoded data removed]",
      "text/plain": [
       "<Figure size 432x288 with 1 Axes>"
      ]
     },
     "metadata": {
      "needs_background": "light"
     },
     "output_type": "display_data"
    }
   ],
   "source": [
    "%matplotlib inline\n",
    "acc = history.history['acc']\n",
    "val_acc = history.history['val_acc']\n",
    "loss = history.history['loss']\n",
    "val_loss = history.history['val_loss']\n",
    "\n",
    "epochs = range(1, len(acc) + 1)\n",
    "\n",
    "plt.plot(epochs, loss, 'bo', label='Training loss')\n",
    "plt.plot(epochs, val_loss, 'b', label='Validation loss')\n",
    "plt.title(\"Training and Validation loss\")\n",
    "\n",
    "plt.xlabel('Epochs')\n",
    "plt.ylabel('Loss')\n",
    "plt.legend()\n",
    "\n",
    "plt.show()\n",
    "\n",
    "# 위에서 이룬 partial_x|y_train 에 대한 자료와 x|y_val 에 대한 자료를 차트로 나타내었다."
   ]
  },
  {
   "cell_type": "code",
   "execution_count": 15,
   "metadata": {},
   "outputs": [
    {
     "data": {
      "image/png": "[encoded data removed]",
      "text/plain": [
       "<Figure size 432x288 with 1 Axes>"
      ]
     },
     "metadata": {
      "needs_background": "light"
     },
     "output_type": "display_data"
    }
   ],
   "source": [
    "plt.clf()\n",
    "acc = history_dict['acc']\n",
    "val_acc = history_dict['val_acc']\n",
    "\n",
    "plt.plot(epochs, acc, 'bo', label='Training acc')\n",
    "plt.plot(epochs, val_acc, 'b', label='Validation acc')\n",
    "plt.title('Training and validation accuracy')\n",
    "plt.xlabel('Epochs')\n",
    "plt.ylabel('Accuracy')\n",
    "plt.legend()\n",
    "\n",
    "plt.show()\n",
    "\n",
    "# 트레이닝 정확도는 에포크가 클수록 높아진다.\n",
    "# 에포크가 클수록 검증률은 점차 낮아지는 것으로 보인다."
   ]
  },
  {
   "cell_type": "code",
   "execution_count": 16,
   "metadata": {},
   "outputs": [
    {
     "name": "stdout",
     "output_type": "stream",
     "text": [
      "Epoch 1/4\n",
      "25000/25000 [==============================] - 1s 49us/step - loss: 0.4749 - acc: 0.8216\n",
      "Epoch 2/4\n",
      "25000/25000 [==============================] - 1s 43us/step - loss: 0.2658 - acc: 0.9097\n",
      "Epoch 3/4\n",
      "25000/25000 [==============================] - 1s 42us/step - loss: 0.1983 - acc: 0.9296\n",
      "Epoch 4/4\n",
      "25000/25000 [==============================] - 1s 42us/step - loss: 0.1678 - acc: 0.9403\n",
      "25000/25000 [==============================] - 1s 45us/step\n"
     ]
    }
   ],
   "source": [
    "model = models.Sequential()\n",
    "model.add(layers.Dense(16, activation='relu', input_shape=(10000,)))\n",
    "model.add(layers.Dense(16, activation='relu'))\n",
    "model.add(layers.Dense(1, activation='sigmoid'))\n",
    "\n",
    "model.compile(optimizer='rmsprop',\n",
    "              loss='binary_crossentropy',\n",
    "              metrics=['accuracy'])\n",
    "\n",
    "model.fit(x_train, y_train, epochs=4, batch_size=512)\n",
    "results = model.evaluate(x_test, y_test)\n",
    "# 에포크 4로 x_train과 y_train으로 훈련"
   ]
  },
  {
   "cell_type": "code",
   "execution_count": 17,
   "metadata": {},
   "outputs": [
    {
     "data": {
      "text/plain": [
       "[0.3246199953365326, 0.87292]"
      ]
     },
     "execution_count": 17,
     "metadata": {},
     "output_type": "execute_result"
    }
   ],
   "source": [
    "results\n",
    "# 훈련된 데이터에 대한 x_test, y_test로의 테스트"
   ]
  }
 ],
 "metadata": {
  "kernelspec": {
   "display_name": "Python 3",
   "language": "python",
   "name": "python3"
  },
  "language_info": {
   "codemirror_mode": {
    "name": "ipython",
    "version": 3
   },
   "file_extension": ".py",
   "mimetype": "text/x-python",
   "name": "python",
   "nbconvert_exporter": "python",
   "pygments_lexer": "ipython3",
   "version": "3.7.3"
  }
 },
 "nbformat": 4,
 "nbformat_minor": 2
}
